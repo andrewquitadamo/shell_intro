{
 "metadata": {
  "name": "",
  "signature": "sha256:8142d3bb168a2acfa43f08a8610e160aecdf4ca6813135014d8dedc0c5da01c3"
 },
 "nbformat": 3,
 "nbformat_minor": 0,
 "worksheets": [
  {
   "cells": [
    {
     "cell_type": "markdown",
     "metadata": {},
     "source": [
      "##Introduction to shell commands\n",
      "This IPython Notebook contains examples of useful shell commands. One note: on the command line there is no need for the \"%%bash\". "
     ]
    },
    {
     "cell_type": "markdown",
     "metadata": {},
     "source": [
      "###pwd \n",
      "pwd prints th working directory, i.e. which folder you are currently in. "
     ]
    },
    {
     "cell_type": "code",
     "collapsed": false,
     "input": [
      "%%bash\n",
      "pwd"
     ],
     "language": "python",
     "metadata": {},
     "outputs": [
      {
       "output_type": "stream",
       "stream": "stdout",
       "text": [
        "/Users/andrewquitadamo/Development/Repos/shell_intro\n"
       ]
      }
     ],
     "prompt_number": 88
    },
    {
     "cell_type": "markdown",
     "metadata": {},
     "source": [
      "###ls\n",
      "ls prints the contents of the directory. \n",
      "ls -a prints all the contents, including hidden files.\n",
      "ls -l prints the long version of the file names, which includes time of modification and other information.\n",
      "ls -alt prints the long version of all the files, but sorted by time of modification.\n",
      "ls -altr prints the same as ls -altr, but in reverse. So the most recently modified files are at the bottom."
     ]
    },
    {
     "cell_type": "code",
     "collapsed": false,
     "input": [
      "%%bash\n",
      "ls"
     ],
     "language": "python",
     "metadata": {},
     "outputs": [
      {
       "output_type": "stream",
       "stream": "stdout",
       "text": [
        "20130606_sample_info.xlsx\n",
        "20130606_sample_info.xlsx.1\n",
        "README.md\n",
        "SV_gene_sample\n",
        "first_svs\n",
        "intro_to_shell.ipynb\n",
        "miRNA.tar.gz\n"
       ]
      }
     ],
     "prompt_number": 89
    },
    {
     "cell_type": "code",
     "collapsed": false,
     "input": [
      "%%bash\n",
      "ls -a"
     ],
     "language": "python",
     "metadata": {},
     "outputs": [
      {
       "output_type": "stream",
       "stream": "stdout",
       "text": [
        ".\n",
        "..\n",
        ".git\n",
        ".ipynb_checkpoints\n",
        "20130606_sample_info.xlsx\n",
        "20130606_sample_info.xlsx.1\n",
        "README.md\n",
        "SV_gene_sample\n",
        "first_svs\n",
        "intro_to_shell.ipynb\n",
        "miRNA.tar.gz\n"
       ]
      }
     ],
     "prompt_number": 90
    },
    {
     "cell_type": "code",
     "collapsed": false,
     "input": [
      "%%bash\n",
      "ls -l"
     ],
     "language": "python",
     "metadata": {},
     "outputs": [
      {
       "output_type": "stream",
       "stream": "stdout",
       "text": [
        "total 4000\n",
        "-rw-r--r--  1 andrewquitadamo  staff  990298 Sep 15 07:38 20130606_sample_info.xlsx\n",
        "-rw-r--r--  1 andrewquitadamo  staff  990298 Sep 15 08:58 20130606_sample_info.xlsx.1\n",
        "-rw-r--r--  1 andrewquitadamo  staff    3543 Sep  8 05:30 README.md\n",
        "-rw-r--r--  1 andrewquitadamo  staff    4532 Sep 15 07:08 SV_gene_sample\n",
        "-rw-r--r--  1 andrewquitadamo  staff     209 Sep 15 08:58 first_svs\n",
        "-rw-r--r--  1 andrewquitadamo  staff   43684 Sep 15 09:00 intro_to_shell.ipynb\n",
        "-rw-r--r--  1 andrewquitadamo  staff    1485 Sep 15 09:36 miRNA.tar.gz\n"
       ]
      }
     ],
     "prompt_number": 91
    },
    {
     "cell_type": "code",
     "collapsed": false,
     "input": [
      "%%bash\n",
      "ls -alt"
     ],
     "language": "python",
     "metadata": {},
     "outputs": [
      {
       "output_type": "stream",
       "stream": "stdout",
       "text": [
        "total 4000\n",
        "drwxr-xr-x  11 andrewquitadamo  staff     374 Sep 15 09:36 .\n",
        "-rw-r--r--   1 andrewquitadamo  staff    1485 Sep 15 09:36 miRNA.tar.gz\n",
        "-rw-r--r--   1 andrewquitadamo  staff   43684 Sep 15 09:00 intro_to_shell.ipynb\n",
        "-rw-r--r--   1 andrewquitadamo  staff  990298 Sep 15 08:58 20130606_sample_info.xlsx.1\n",
        "-rw-r--r--   1 andrewquitadamo  staff     209 Sep 15 08:58 first_svs\n",
        "-rw-r--r--   1 andrewquitadamo  staff  990298 Sep 15 07:38 20130606_sample_info.xlsx\n",
        "-rw-r--r--   1 andrewquitadamo  staff    4532 Sep 15 07:08 SV_gene_sample\n",
        "drwxr-xr-x  26 andrewquitadamo  staff     884 Sep 12 13:49 ..\n",
        "drwxr-xr-x  14 andrewquitadamo  staff     476 Sep  9 13:41 .git\n",
        "drwxr-xr-x   3 andrewquitadamo  staff     102 Sep  8 05:35 .ipynb_checkpoints\n",
        "-rw-r--r--   1 andrewquitadamo  staff    3543 Sep  8 05:30 README.md\n"
       ]
      }
     ],
     "prompt_number": 92
    },
    {
     "cell_type": "code",
     "collapsed": false,
     "input": [
      "%%bash\n",
      "ls -altr"
     ],
     "language": "python",
     "metadata": {},
     "outputs": [
      {
       "output_type": "stream",
       "stream": "stdout",
       "text": [
        "total 4000\n",
        "-rw-r--r--   1 andrewquitadamo  staff    3543 Sep  8 05:30 README.md\n",
        "drwxr-xr-x   3 andrewquitadamo  staff     102 Sep  8 05:35 .ipynb_checkpoints\n",
        "drwxr-xr-x  14 andrewquitadamo  staff     476 Sep  9 13:41 .git\n",
        "drwxr-xr-x  26 andrewquitadamo  staff     884 Sep 12 13:49 ..\n",
        "-rw-r--r--   1 andrewquitadamo  staff    4532 Sep 15 07:08 SV_gene_sample\n",
        "-rw-r--r--   1 andrewquitadamo  staff  990298 Sep 15 07:38 20130606_sample_info.xlsx\n",
        "-rw-r--r--   1 andrewquitadamo  staff     209 Sep 15 08:58 first_svs\n",
        "-rw-r--r--   1 andrewquitadamo  staff  990298 Sep 15 08:58 20130606_sample_info.xlsx.1\n",
        "-rw-r--r--   1 andrewquitadamo  staff   43684 Sep 15 09:00 intro_to_shell.ipynb\n",
        "-rw-r--r--   1 andrewquitadamo  staff    1485 Sep 15 09:36 miRNA.tar.gz\n",
        "drwxr-xr-x  11 andrewquitadamo  staff     374 Sep 15 09:36 .\n"
       ]
      }
     ],
     "prompt_number": 93
    },
    {
     "cell_type": "markdown",
     "metadata": {},
     "source": [
      "###mkdir\n",
      "mkdir makes a new directory"
     ]
    },
    {
     "cell_type": "code",
     "collapsed": false,
     "input": [
      "%%bash\n",
      "mkdir temp_directory"
     ],
     "language": "python",
     "metadata": {},
     "outputs": [],
     "prompt_number": 94
    },
    {
     "cell_type": "markdown",
     "metadata": {},
     "source": [
      "And if we run ls, we can see that there is in fact a new directory."
     ]
    },
    {
     "cell_type": "code",
     "collapsed": false,
     "input": [
      "%%bash\n",
      "ls -ltr"
     ],
     "language": "python",
     "metadata": {},
     "outputs": [
      {
       "output_type": "stream",
       "stream": "stdout",
       "text": [
        "total 4000\n",
        "-rw-r--r--  1 andrewquitadamo  staff    3543 Sep  8 05:30 README.md\n",
        "-rw-r--r--  1 andrewquitadamo  staff    4532 Sep 15 07:08 SV_gene_sample\n",
        "-rw-r--r--  1 andrewquitadamo  staff  990298 Sep 15 07:38 20130606_sample_info.xlsx\n",
        "-rw-r--r--  1 andrewquitadamo  staff     209 Sep 15 08:58 first_svs\n",
        "-rw-r--r--  1 andrewquitadamo  staff  990298 Sep 15 08:58 20130606_sample_info.xlsx.1\n",
        "-rw-r--r--  1 andrewquitadamo  staff   43684 Sep 15 09:00 intro_to_shell.ipynb\n",
        "-rw-r--r--  1 andrewquitadamo  staff    1485 Sep 15 09:36 miRNA.tar.gz\n",
        "drwxr-xr-x  2 andrewquitadamo  staff      68 Sep 15 09:37 temp_directory\n"
       ]
      }
     ],
     "prompt_number": 95
    },
    {
     "cell_type": "markdown",
     "metadata": {},
     "source": [
      "###cd\n",
      "cd changes the directory we are in.\n",
      "cd .. moves up one directory.\n",
      "~ is the shortcut for the home directory, just typing cd will take you there.\n",
      "We will cd into the directory we just created."
     ]
    },
    {
     "cell_type": "code",
     "collapsed": false,
     "input": [
      "%%bash\n",
      "cd temp_directory/"
     ],
     "language": "python",
     "metadata": {},
     "outputs": [],
     "prompt_number": 96
    },
    {
     "cell_type": "markdown",
     "metadata": {},
     "source": [
      "And we can use pwd to see if that is where we are."
     ]
    },
    {
     "cell_type": "code",
     "collapsed": false,
     "input": [
      "%%bash\n",
      "pwd"
     ],
     "language": "python",
     "metadata": {},
     "outputs": [
      {
       "output_type": "stream",
       "stream": "stdout",
       "text": [
        "/Users/andrewquitadamo/Development/Repos/shell_intro\n"
       ]
      }
     ],
     "prompt_number": 97
    },
    {
     "cell_type": "markdown",
     "metadata": {},
     "source": [
      "Now we can cd back to the directory we were originally in."
     ]
    },
    {
     "cell_type": "code",
     "collapsed": false,
     "input": [
      "%%bash\n",
      "cd .."
     ],
     "language": "python",
     "metadata": {},
     "outputs": [],
     "prompt_number": 98
    },
    {
     "cell_type": "code",
     "collapsed": false,
     "input": [
      "%%bash\n",
      "pwd"
     ],
     "language": "python",
     "metadata": {},
     "outputs": [
      {
       "output_type": "stream",
       "stream": "stdout",
       "text": [
        "/Users/andrewquitadamo/Development/Repos/shell_intro\n"
       ]
      }
     ],
     "prompt_number": 99
    },
    {
     "cell_type": "markdown",
     "metadata": {},
     "source": [
      "###cp\n",
      "cp creates copies of files. You can copy into the same directory or into a different one. "
     ]
    },
    {
     "cell_type": "code",
     "collapsed": false,
     "input": [
      "%%bash\n",
      "cp SV_gene_sample SV_gene_sample_copy"
     ],
     "language": "python",
     "metadata": {},
     "outputs": [],
     "prompt_number": 100
    },
    {
     "cell_type": "code",
     "collapsed": false,
     "input": [
      "%%bash\n",
      "ls -ltr"
     ],
     "language": "python",
     "metadata": {},
     "outputs": [
      {
       "output_type": "stream",
       "stream": "stdout",
       "text": [
        "total 4016\n",
        "-rw-r--r--  1 andrewquitadamo  staff    3543 Sep  8 05:30 README.md\n",
        "-rw-r--r--  1 andrewquitadamo  staff    4532 Sep 15 07:08 SV_gene_sample\n",
        "-rw-r--r--  1 andrewquitadamo  staff  990298 Sep 15 07:38 20130606_sample_info.xlsx\n",
        "-rw-r--r--  1 andrewquitadamo  staff     209 Sep 15 08:58 first_svs\n",
        "-rw-r--r--  1 andrewquitadamo  staff  990298 Sep 15 08:58 20130606_sample_info.xlsx.1\n",
        "-rw-r--r--  1 andrewquitadamo  staff   43684 Sep 15 09:00 intro_to_shell.ipynb\n",
        "-rw-r--r--  1 andrewquitadamo  staff    1485 Sep 15 09:36 miRNA.tar.gz\n",
        "drwxr-xr-x  2 andrewquitadamo  staff      68 Sep 15 09:37 temp_directory\n",
        "-rw-r--r--  1 andrewquitadamo  staff    4532 Sep 15 09:37 SV_gene_sample_copy\n"
       ]
      }
     ],
     "prompt_number": 101
    },
    {
     "cell_type": "code",
     "collapsed": false,
     "input": [
      "%%bash\n",
      "cp SV_gene_sample temp_directory/"
     ],
     "language": "python",
     "metadata": {},
     "outputs": [],
     "prompt_number": 102
    },
    {
     "cell_type": "code",
     "collapsed": false,
     "input": [
      "%%bash\n",
      "cd temp_directory/\n",
      "ls -ltr\n",
      "cd .."
     ],
     "language": "python",
     "metadata": {},
     "outputs": [
      {
       "output_type": "stream",
       "stream": "stdout",
       "text": [
        "total 16\n",
        "-rw-r--r--  1 andrewquitadamo  staff  4532 Sep 15 09:37 SV_gene_sample\n"
       ]
      }
     ],
     "prompt_number": 103
    },
    {
     "cell_type": "markdown",
     "metadata": {},
     "source": [
      "###mv\n",
      "mv moves files, its similar to cp, but changes the original file instead of creating a copy."
     ]
    },
    {
     "cell_type": "code",
     "collapsed": false,
     "input": [
      "%%bash\n",
      "mv SV_gene_sample_copy temp_directory/"
     ],
     "language": "python",
     "metadata": {},
     "outputs": [],
     "prompt_number": 104
    },
    {
     "cell_type": "code",
     "collapsed": false,
     "input": [
      "%%bash\n",
      "ls -ltr"
     ],
     "language": "python",
     "metadata": {},
     "outputs": [
      {
       "output_type": "stream",
       "stream": "stdout",
       "text": [
        "total 4000\n",
        "-rw-r--r--  1 andrewquitadamo  staff    3543 Sep  8 05:30 README.md\n",
        "-rw-r--r--  1 andrewquitadamo  staff    4532 Sep 15 07:08 SV_gene_sample\n",
        "-rw-r--r--  1 andrewquitadamo  staff  990298 Sep 15 07:38 20130606_sample_info.xlsx\n",
        "-rw-r--r--  1 andrewquitadamo  staff     209 Sep 15 08:58 first_svs\n",
        "-rw-r--r--  1 andrewquitadamo  staff  990298 Sep 15 08:58 20130606_sample_info.xlsx.1\n",
        "-rw-r--r--  1 andrewquitadamo  staff   43684 Sep 15 09:00 intro_to_shell.ipynb\n",
        "-rw-r--r--  1 andrewquitadamo  staff    1485 Sep 15 09:36 miRNA.tar.gz\n",
        "drwxr-xr-x  4 andrewquitadamo  staff     136 Sep 15 09:37 temp_directory\n"
       ]
      }
     ],
     "prompt_number": 105
    },
    {
     "cell_type": "code",
     "collapsed": false,
     "input": [
      "%%bash\n",
      "cd temp_directory\n",
      "ls -alt\n",
      "mv SV_gene_sample_copy newly_named_file\n",
      "ls -alt"
     ],
     "language": "python",
     "metadata": {},
     "outputs": [
      {
       "output_type": "stream",
       "stream": "stdout",
       "text": [
        "total 32\n",
        "drwxr-xr-x   4 andrewquitadamo  staff   136 Sep 15 09:37 .\n",
        "drwxr-xr-x  12 andrewquitadamo  staff   408 Sep 15 09:37 ..\n",
        "-rw-r--r--   1 andrewquitadamo  staff  4532 Sep 15 09:37 SV_gene_sample\n",
        "-rw-r--r--   1 andrewquitadamo  staff  4532 Sep 15 09:37 SV_gene_sample_copy\n",
        "total 32\n",
        "drwxr-xr-x   4 andrewquitadamo  staff   136 Sep 15 09:37 .\n",
        "drwxr-xr-x  12 andrewquitadamo  staff   408 Sep 15 09:37 ..\n",
        "-rw-r--r--   1 andrewquitadamo  staff  4532 Sep 15 09:37 SV_gene_sample\n",
        "-rw-r--r--   1 andrewquitadamo  staff  4532 Sep 15 09:37 newly_named_file\n"
       ]
      }
     ],
     "prompt_number": 106
    },
    {
     "cell_type": "markdown",
     "metadata": {},
     "source": [
      "You can also use mv to rename."
     ]
    },
    {
     "cell_type": "markdown",
     "metadata": {},
     "source": [
      "###rm\n",
      "rm can be used to remove files and directories.\n",
      "rm filename deletes a file, and rm -r directory deletes a directory. **Be very careful, there is no undo.**"
     ]
    },
    {
     "cell_type": "code",
     "collapsed": false,
     "input": [
      "%%bash\n",
      "cd temp_directory/\n",
      "rm newly_named_file\n",
      "ls -alt"
     ],
     "language": "python",
     "metadata": {},
     "outputs": [
      {
       "output_type": "stream",
       "stream": "stdout",
       "text": [
        "total 16\n",
        "drwxr-xr-x   3 andrewquitadamo  staff   102 Sep 15 09:37 .\n",
        "drwxr-xr-x  12 andrewquitadamo  staff   408 Sep 15 09:37 ..\n",
        "-rw-r--r--   1 andrewquitadamo  staff  4532 Sep 15 09:37 SV_gene_sample\n"
       ]
      }
     ],
     "prompt_number": 107
    },
    {
     "cell_type": "code",
     "collapsed": false,
     "input": [
      "%%bash\n",
      "rm -r temp_directory"
     ],
     "language": "python",
     "metadata": {},
     "outputs": [],
     "prompt_number": 108
    },
    {
     "cell_type": "markdown",
     "metadata": {},
     "source": [
      "###cat\n",
      "cat can be used to display the contents of a file, or concatonate two files together."
     ]
    },
    {
     "cell_type": "code",
     "collapsed": false,
     "input": [
      "%%bash\n",
      "cat SV_gene_sample"
     ],
     "language": "python",
     "metadata": {},
     "outputs": [
      {
       "output_type": "stream",
       "stream": "stdout",
       "text": [
        "snps\tgene\tstatistic\tpvalue\tFDR\tbeta\n",
        "BI_GS_DEL1_B5_P2682_257\tENSG00000188000.2\t-50.0350478013566\t2.19054140417393e-184\t3.06305595087044e-179\t-0.242246304080066\n",
        "YL_CN_MSL_117\tENSG00000134184.7\t36.5941208200198\t5.44000105588586e-136\t3.80340393822788e-131\t29.6214764212282\n",
        "DUP_gs_CNV_22_24345244_24391524\tENSG00000184674.7\t-36.4592827945128\t1.85856236003814e-135\t8.66282111221645e-131\t-8.13905760317354\n",
        "YL_CN_MSL_117\tENSG00000260246.1\t34.1288594910344\t4.44016952667061e-126\t1.55218336270969e-121\t5.89071485803895\n",
        "BI_GS_CNV_17_43576081_43589376\tENSG00000262539.1\t-27.7062049133317\t9.28866022046761e-99\t2.59768529457641e-94\t-1.33314431784564\n",
        "DEL_pindel_45690\tENSG00000262539.1\t-26.9660208665474\t1.74901668476049e-95\t4.07611253411241e-91\t-1.50984692101739\n",
        "DUP_gs_CNV_17_44341412_44366497\tENSG00000214401.4\t25.5391287352278\t4.13881110056866e-89\t8.2676299286231e-85\t0.601790298293752\n",
        "DEL_pindel_45694\tENSG00000262539.1\t-25.5255112231149\t4.7650020036509e-89\t8.32868743965637e-85\t-1.41548655527173\n",
        "BI_GS_DEL1_B3_P2555_15\tENSG00000262539.1\t-24.8998281674489\t3.13361638161806e-86\t4.86863013620039e-82\t-1.28783022086749\n",
        "DEL_pindel_16206\tENSG00000164308.12\t24.0479988428405\t2.24709558607335e-82\t3.14213622896222e-78\t14.9659458822407\n",
        "BI_GS_CNV_17_43576081_43589376\tENSG00000214401.4\t-23.1541617875865\t2.61347097067829e-78\t3.32222053909924e-74\t-1.1928382455719\n",
        "SVA_umary_SVA_706\tENSG00000262539.1\t22.8189562854985\t8.83427277097892e-77\t1.02942099653229e-72\t1.3323014912383\n",
        "DEL_pindel_45690\tENSG00000214401.4\t-22.5884235000981\t9.97251718902649e-76\t1.0726669623529e-71\t-1.34923691655844\n",
        "DUP_gs_CNV_17_44341412_44366497\tENSG00000262539.1\t21.8106062555321\t3.59492088586428e-72\t3.59058130279492e-68\t0.582790639528203\n",
        "BI_GS_DEL1_B3_P2555_15\tENSG00000214401.4\t-21.1941181484767\t2.39112329167548e-69\t2.22902107332183e-65\t-1.15206923117107\n",
        "BI_GS_CNV_17_43576081_43589376\tENSG00000262500.1\t-21.0995502457963\t6.48290838609007e-69\t5.665697265846e-65\t-0.21077990100887\n",
        "BI_GS_DEL1_B1_P1099_422\tENSG00000179344.11\t20.6534078354581\t7.16734502334955e-67\t5.89539424682347e-63\t190.601861045122\n",
        "DEL_pindel_45694\tENSG00000214401.4\t-20.5166837022756\t3.03075373001005e-66\t2.35440736011686e-62\t-1.23304553980647\n",
        "DEL_pindel_45694\tENSG00000262500.1\t-20.4685013528904\t5.03738356086256e-66\t3.66379755876338e-62\t-0.227454595341978\n",
        "DEL_pindel_45690\tENSG00000262500.1\t-20.4647557010752\t5.24032233018913e-66\t3.66379755876338e-62\t-0.237434738415644\n",
        "DEL_pindel_45688\tENSG00000262539.1\t-20.3101195998045\t2.67567611401006e-65\t1.78163079380067e-61\t-1.35448572075674\n",
        "SVA_umary_SVA_706\tENSG00000214401.4\t20.2524378707265\t4.91492159643765e-65\t3.03911014325087e-61\t1.21005012619166\n",
        "BI_GS_CNV_4_69426439_69454553\tENSG00000197888.2\t20.2505076444685\t5.01595097040074e-65\t3.03911014325087e-61\t9.70768731596679\n",
        "BI_GS_CNV_4_69426439_69454553\tENSG00000196620.4\t20.2467940579808\t5.21619980104705e-65\t3.03911014325087e-61\t3.43943951711457\n",
        "BI_GS_DEL1_B3_P2555_15\tENSG00000262500.1\t-20.1303422829722\t1.77999168215239e-64\t9.95592067628204e-61\t-0.20726502714453\n",
        "DUP_gs_CNV_7_38388214_38397225\tENSG00000211697.2\t-20.0051448324783\t6.65853208804935e-64\t3.58103538616934e-60\t-0.713491965095944\n",
        "DUP_gs_CNV_17_44341412_44366497\tENSG00000176681.9\t19.9293196682597\t1.48016634905855e-63\t7.66567187982242e-60\t1.09789064705275\n",
        "YL_CN_ACB_1105\tENSG00000197888.2\t19.8961378479142\t2.09947657808464e-63\t1.04847110496483e-59\t9.68806096805736\n",
        "YL_CN_ACB_1105\tENSG00000196620.4\t19.8853657230052\t2.35173664257167e-63\t1.13395064299117e-59\t3.43183094166079\n",
        "BI_GS_DEL1_B5_P2682_257\tENSG00000188000.2\t-50.0350478013566\t2.19054140417393e-184\t3.06305595087044e-179\t-0.242246304080066\n",
        "YL_CN_MSL_117\tENSG00000134184.7\t36.5941208200198\t5.44000105588586e-136\t3.80340393822788e-131\t29.6214764212282\n",
        "DUP_gs_CNV_22_24345244_24391524\tENSG00000184674.7\t-36.4592827945128\t1.85856236003814e-135\t8.66282111221645e-131\t-8.13905760317354\n",
        "YL_CN_MSL_117\tENSG00000260246.1\t34.1288594910344\t4.44016952667061e-126\t1.55218336270969e-121\t5.89071485803895\n",
        "BI_GS_CNV_17_43576081_43589376\tENSG00000262539.1\t-27.7062049133317\t9.28866022046761e-99\t2.59768529457641e-94\t-1.33314431784564\n",
        "DEL_pindel_45690\tENSG00000262539.1\t-26.9660208665474\t1.74901668476049e-95\t4.07611253411241e-91\t-1.50984692101739\n",
        "DUP_gs_CNV_17_44341412_44366497\tENSG00000214401.4\t25.5391287352278\t4.13881110056866e-89\t8.2676299286231e-85\t0.601790298293752\n",
        "DEL_pindel_45694\tENSG00000262539.1\t-25.5255112231149\t4.7650020036509e-89\t8.32868743965637e-85\t-1.41548655527173\n",
        "BI_GS_DEL1_B3_P2555_15\tENSG00000262539.1\t-24.8998281674489\t3.13361638161806e-86\t4.86863013620039e-82\t-1.28783022086749\n"
       ]
      }
     ],
     "prompt_number": 109
    },
    {
     "cell_type": "markdown",
     "metadata": {},
     "source": [
      "###head\n",
      "head displays the first n lines of a file. The default for n is 10"
     ]
    },
    {
     "cell_type": "code",
     "collapsed": false,
     "input": [
      "%%bash\n",
      "head SV_gene_sample"
     ],
     "language": "python",
     "metadata": {},
     "outputs": [
      {
       "output_type": "stream",
       "stream": "stdout",
       "text": [
        "snps\tgene\tstatistic\tpvalue\tFDR\tbeta\n",
        "BI_GS_DEL1_B5_P2682_257\tENSG00000188000.2\t-50.0350478013566\t2.19054140417393e-184\t3.06305595087044e-179\t-0.242246304080066\n",
        "YL_CN_MSL_117\tENSG00000134184.7\t36.5941208200198\t5.44000105588586e-136\t3.80340393822788e-131\t29.6214764212282\n",
        "DUP_gs_CNV_22_24345244_24391524\tENSG00000184674.7\t-36.4592827945128\t1.85856236003814e-135\t8.66282111221645e-131\t-8.13905760317354\n",
        "YL_CN_MSL_117\tENSG00000260246.1\t34.1288594910344\t4.44016952667061e-126\t1.55218336270969e-121\t5.89071485803895\n",
        "BI_GS_CNV_17_43576081_43589376\tENSG00000262539.1\t-27.7062049133317\t9.28866022046761e-99\t2.59768529457641e-94\t-1.33314431784564\n",
        "DEL_pindel_45690\tENSG00000262539.1\t-26.9660208665474\t1.74901668476049e-95\t4.07611253411241e-91\t-1.50984692101739\n",
        "DUP_gs_CNV_17_44341412_44366497\tENSG00000214401.4\t25.5391287352278\t4.13881110056866e-89\t8.2676299286231e-85\t0.601790298293752\n",
        "DEL_pindel_45694\tENSG00000262539.1\t-25.5255112231149\t4.7650020036509e-89\t8.32868743965637e-85\t-1.41548655527173\n",
        "BI_GS_DEL1_B3_P2555_15\tENSG00000262539.1\t-24.8998281674489\t3.13361638161806e-86\t4.86863013620039e-82\t-1.28783022086749\n"
       ]
      }
     ],
     "prompt_number": 110
    },
    {
     "cell_type": "code",
     "collapsed": false,
     "input": [
      "%%bash\n",
      "head -n 5 SV_gene_sample"
     ],
     "language": "python",
     "metadata": {},
     "outputs": [
      {
       "output_type": "stream",
       "stream": "stdout",
       "text": [
        "snps\tgene\tstatistic\tpvalue\tFDR\tbeta\n",
        "BI_GS_DEL1_B5_P2682_257\tENSG00000188000.2\t-50.0350478013566\t2.19054140417393e-184\t3.06305595087044e-179\t-0.242246304080066\n",
        "YL_CN_MSL_117\tENSG00000134184.7\t36.5941208200198\t5.44000105588586e-136\t3.80340393822788e-131\t29.6214764212282\n",
        "DUP_gs_CNV_22_24345244_24391524\tENSG00000184674.7\t-36.4592827945128\t1.85856236003814e-135\t8.66282111221645e-131\t-8.13905760317354\n",
        "YL_CN_MSL_117\tENSG00000260246.1\t34.1288594910344\t4.44016952667061e-126\t1.55218336270969e-121\t5.89071485803895\n"
       ]
      }
     ],
     "prompt_number": 111
    },
    {
     "cell_type": "markdown",
     "metadata": {},
     "source": [
      "###tail\n",
      "tail displays the last lines of a file."
     ]
    },
    {
     "cell_type": "code",
     "collapsed": false,
     "input": [
      "%%bash\n",
      "tail SV_gene_sample"
     ],
     "language": "python",
     "metadata": {},
     "outputs": [
      {
       "output_type": "stream",
       "stream": "stdout",
       "text": [
        "YL_CN_ACB_1105\tENSG00000196620.4\t19.8853657230052\t2.35173664257167e-63\t1.13395064299117e-59\t3.43183094166079\n",
        "BI_GS_DEL1_B5_P2682_257\tENSG00000188000.2\t-50.0350478013566\t2.19054140417393e-184\t3.06305595087044e-179\t-0.242246304080066\n",
        "YL_CN_MSL_117\tENSG00000134184.7\t36.5941208200198\t5.44000105588586e-136\t3.80340393822788e-131\t29.6214764212282\n",
        "DUP_gs_CNV_22_24345244_24391524\tENSG00000184674.7\t-36.4592827945128\t1.85856236003814e-135\t8.66282111221645e-131\t-8.13905760317354\n",
        "YL_CN_MSL_117\tENSG00000260246.1\t34.1288594910344\t4.44016952667061e-126\t1.55218336270969e-121\t5.89071485803895\n",
        "BI_GS_CNV_17_43576081_43589376\tENSG00000262539.1\t-27.7062049133317\t9.28866022046761e-99\t2.59768529457641e-94\t-1.33314431784564\n",
        "DEL_pindel_45690\tENSG00000262539.1\t-26.9660208665474\t1.74901668476049e-95\t4.07611253411241e-91\t-1.50984692101739\n",
        "DUP_gs_CNV_17_44341412_44366497\tENSG00000214401.4\t25.5391287352278\t4.13881110056866e-89\t8.2676299286231e-85\t0.601790298293752\n",
        "DEL_pindel_45694\tENSG00000262539.1\t-25.5255112231149\t4.7650020036509e-89\t8.32868743965637e-85\t-1.41548655527173\n",
        "BI_GS_DEL1_B3_P2555_15\tENSG00000262539.1\t-24.8998281674489\t3.13361638161806e-86\t4.86863013620039e-82\t-1.28783022086749\n"
       ]
      }
     ],
     "prompt_number": 112
    },
    {
     "cell_type": "code",
     "collapsed": false,
     "input": [
      "%%bash\n",
      "tail -n 5 SV_gene_sample"
     ],
     "language": "python",
     "metadata": {},
     "outputs": [
      {
       "output_type": "stream",
       "stream": "stdout",
       "text": [
        "BI_GS_CNV_17_43576081_43589376\tENSG00000262539.1\t-27.7062049133317\t9.28866022046761e-99\t2.59768529457641e-94\t-1.33314431784564\n",
        "DEL_pindel_45690\tENSG00000262539.1\t-26.9660208665474\t1.74901668476049e-95\t4.07611253411241e-91\t-1.50984692101739\n",
        "DUP_gs_CNV_17_44341412_44366497\tENSG00000214401.4\t25.5391287352278\t4.13881110056866e-89\t8.2676299286231e-85\t0.601790298293752\n",
        "DEL_pindel_45694\tENSG00000262539.1\t-25.5255112231149\t4.7650020036509e-89\t8.32868743965637e-85\t-1.41548655527173\n",
        "BI_GS_DEL1_B3_P2555_15\tENSG00000262539.1\t-24.8998281674489\t3.13361638161806e-86\t4.86863013620039e-82\t-1.28783022086749\n"
       ]
      }
     ],
     "prompt_number": 113
    },
    {
     "cell_type": "markdown",
     "metadata": {},
     "source": [
      "###grep\n",
      "grep can be used to search files"
     ]
    },
    {
     "cell_type": "code",
     "collapsed": false,
     "input": [
      "%%bash\n",
      "grep 'DEL_pindel_45690' SV_gene_sample"
     ],
     "language": "python",
     "metadata": {},
     "outputs": [
      {
       "output_type": "stream",
       "stream": "stdout",
       "text": [
        "DEL_pindel_45690\tENSG00000262539.1\t-26.9660208665474\t1.74901668476049e-95\t4.07611253411241e-91\t-1.50984692101739\n",
        "DEL_pindel_45690\tENSG00000214401.4\t-22.5884235000981\t9.97251718902649e-76\t1.0726669623529e-71\t-1.34923691655844\n",
        "DEL_pindel_45690\tENSG00000262500.1\t-20.4647557010752\t5.24032233018913e-66\t3.66379755876338e-62\t-0.237434738415644\n",
        "DEL_pindel_45690\tENSG00000262539.1\t-26.9660208665474\t1.74901668476049e-95\t4.07611253411241e-91\t-1.50984692101739\n"
       ]
      }
     ],
     "prompt_number": 114
    },
    {
     "cell_type": "code",
     "collapsed": false,
     "input": [
      "%%bash\n",
      "grep -c 'DEL_pindel_45690' SV_gene_sample"
     ],
     "language": "python",
     "metadata": {},
     "outputs": [
      {
       "output_type": "stream",
       "stream": "stdout",
       "text": [
        "4\n"
       ]
      }
     ],
     "prompt_number": 115
    },
    {
     "cell_type": "markdown",
     "metadata": {},
     "source": [
      "###cut\n",
      "Cut can be used to extract columns from files"
     ]
    },
    {
     "cell_type": "code",
     "collapsed": false,
     "input": [
      "%%bash\n",
      "cut -f 1 SV_gene_sample"
     ],
     "language": "python",
     "metadata": {},
     "outputs": [
      {
       "output_type": "stream",
       "stream": "stdout",
       "text": [
        "snps\n",
        "BI_GS_DEL1_B5_P2682_257\n",
        "YL_CN_MSL_117\n",
        "DUP_gs_CNV_22_24345244_24391524\n",
        "YL_CN_MSL_117\n",
        "BI_GS_CNV_17_43576081_43589376\n",
        "DEL_pindel_45690\n",
        "DUP_gs_CNV_17_44341412_44366497\n",
        "DEL_pindel_45694\n",
        "BI_GS_DEL1_B3_P2555_15\n",
        "DEL_pindel_16206\n",
        "BI_GS_CNV_17_43576081_43589376\n",
        "SVA_umary_SVA_706\n",
        "DEL_pindel_45690\n",
        "DUP_gs_CNV_17_44341412_44366497\n",
        "BI_GS_DEL1_B3_P2555_15\n",
        "BI_GS_CNV_17_43576081_43589376\n",
        "BI_GS_DEL1_B1_P1099_422\n",
        "DEL_pindel_45694\n",
        "DEL_pindel_45694\n",
        "DEL_pindel_45690\n",
        "DEL_pindel_45688\n",
        "SVA_umary_SVA_706\n",
        "BI_GS_CNV_4_69426439_69454553\n",
        "BI_GS_CNV_4_69426439_69454553\n",
        "BI_GS_DEL1_B3_P2555_15\n",
        "DUP_gs_CNV_7_38388214_38397225\n",
        "DUP_gs_CNV_17_44341412_44366497\n",
        "YL_CN_ACB_1105\n",
        "YL_CN_ACB_1105\n",
        "BI_GS_DEL1_B5_P2682_257\n",
        "YL_CN_MSL_117\n",
        "DUP_gs_CNV_22_24345244_24391524\n",
        "YL_CN_MSL_117\n",
        "BI_GS_CNV_17_43576081_43589376\n",
        "DEL_pindel_45690\n",
        "DUP_gs_CNV_17_44341412_44366497\n",
        "DEL_pindel_45694\n",
        "BI_GS_DEL1_B3_P2555_15\n"
       ]
      }
     ],
     "prompt_number": 116
    },
    {
     "cell_type": "code",
     "collapsed": false,
     "input": [
      "%%bash\n",
      "cut -f 1,2 SV_gene_sample"
     ],
     "language": "python",
     "metadata": {},
     "outputs": [
      {
       "output_type": "stream",
       "stream": "stdout",
       "text": [
        "snps\tgene\n",
        "BI_GS_DEL1_B5_P2682_257\tENSG00000188000.2\n",
        "YL_CN_MSL_117\tENSG00000134184.7\n",
        "DUP_gs_CNV_22_24345244_24391524\tENSG00000184674.7\n",
        "YL_CN_MSL_117\tENSG00000260246.1\n",
        "BI_GS_CNV_17_43576081_43589376\tENSG00000262539.1\n",
        "DEL_pindel_45690\tENSG00000262539.1\n",
        "DUP_gs_CNV_17_44341412_44366497\tENSG00000214401.4\n",
        "DEL_pindel_45694\tENSG00000262539.1\n",
        "BI_GS_DEL1_B3_P2555_15\tENSG00000262539.1\n",
        "DEL_pindel_16206\tENSG00000164308.12\n",
        "BI_GS_CNV_17_43576081_43589376\tENSG00000214401.4\n",
        "SVA_umary_SVA_706\tENSG00000262539.1\n",
        "DEL_pindel_45690\tENSG00000214401.4\n",
        "DUP_gs_CNV_17_44341412_44366497\tENSG00000262539.1\n",
        "BI_GS_DEL1_B3_P2555_15\tENSG00000214401.4\n",
        "BI_GS_CNV_17_43576081_43589376\tENSG00000262500.1\n",
        "BI_GS_DEL1_B1_P1099_422\tENSG00000179344.11\n",
        "DEL_pindel_45694\tENSG00000214401.4\n",
        "DEL_pindel_45694\tENSG00000262500.1\n",
        "DEL_pindel_45690\tENSG00000262500.1\n",
        "DEL_pindel_45688\tENSG00000262539.1\n",
        "SVA_umary_SVA_706\tENSG00000214401.4\n",
        "BI_GS_CNV_4_69426439_69454553\tENSG00000197888.2\n",
        "BI_GS_CNV_4_69426439_69454553\tENSG00000196620.4\n",
        "BI_GS_DEL1_B3_P2555_15\tENSG00000262500.1\n",
        "DUP_gs_CNV_7_38388214_38397225\tENSG00000211697.2\n",
        "DUP_gs_CNV_17_44341412_44366497\tENSG00000176681.9\n",
        "YL_CN_ACB_1105\tENSG00000197888.2\n",
        "YL_CN_ACB_1105\tENSG00000196620.4\n",
        "BI_GS_DEL1_B5_P2682_257\tENSG00000188000.2\n",
        "YL_CN_MSL_117\tENSG00000134184.7\n",
        "DUP_gs_CNV_22_24345244_24391524\tENSG00000184674.7\n",
        "YL_CN_MSL_117\tENSG00000260246.1\n",
        "BI_GS_CNV_17_43576081_43589376\tENSG00000262539.1\n",
        "DEL_pindel_45690\tENSG00000262539.1\n",
        "DUP_gs_CNV_17_44341412_44366497\tENSG00000214401.4\n",
        "DEL_pindel_45694\tENSG00000262539.1\n",
        "BI_GS_DEL1_B3_P2555_15\tENSG00000262539.1\n"
       ]
      }
     ],
     "prompt_number": 117
    },
    {
     "cell_type": "markdown",
     "metadata": {},
     "source": [
      "###|\n",
      "You can also pipe commands together, so the output of one is the input of the second."
     ]
    },
    {
     "cell_type": "code",
     "collapsed": false,
     "input": [
      "%%bash\n",
      "cut -f 1 SV_gene_sample | head"
     ],
     "language": "python",
     "metadata": {},
     "outputs": [
      {
       "output_type": "stream",
       "stream": "stdout",
       "text": [
        "snps\n",
        "BI_GS_DEL1_B5_P2682_257\n",
        "YL_CN_MSL_117\n",
        "DUP_gs_CNV_22_24345244_24391524\n",
        "YL_CN_MSL_117\n",
        "BI_GS_CNV_17_43576081_43589376\n",
        "DEL_pindel_45690\n",
        "DUP_gs_CNV_17_44341412_44366497\n",
        "DEL_pindel_45694\n",
        "BI_GS_DEL1_B3_P2555_15\n"
       ]
      }
     ],
     "prompt_number": 118
    },
    {
     "cell_type": "markdown",
     "metadata": {},
     "source": [
      "###sort\n",
      "Sort will sort the input."
     ]
    },
    {
     "cell_type": "code",
     "collapsed": false,
     "input": [
      "%%bash\n",
      "sort SV_gene_sample | head"
     ],
     "language": "python",
     "metadata": {},
     "outputs": [
      {
       "output_type": "stream",
       "stream": "stdout",
       "text": [
        "BI_GS_CNV_17_43576081_43589376\tENSG00000214401.4\t-23.1541617875865\t2.61347097067829e-78\t3.32222053909924e-74\t-1.1928382455719\n",
        "BI_GS_CNV_17_43576081_43589376\tENSG00000262500.1\t-21.0995502457963\t6.48290838609007e-69\t5.665697265846e-65\t-0.21077990100887\n",
        "BI_GS_CNV_17_43576081_43589376\tENSG00000262539.1\t-27.7062049133317\t9.28866022046761e-99\t2.59768529457641e-94\t-1.33314431784564\n",
        "BI_GS_CNV_17_43576081_43589376\tENSG00000262539.1\t-27.7062049133317\t9.28866022046761e-99\t2.59768529457641e-94\t-1.33314431784564\n",
        "BI_GS_CNV_4_69426439_69454553\tENSG00000196620.4\t20.2467940579808\t5.21619980104705e-65\t3.03911014325087e-61\t3.43943951711457\n",
        "BI_GS_CNV_4_69426439_69454553\tENSG00000197888.2\t20.2505076444685\t5.01595097040074e-65\t3.03911014325087e-61\t9.70768731596679\n",
        "BI_GS_DEL1_B1_P1099_422\tENSG00000179344.11\t20.6534078354581\t7.16734502334955e-67\t5.89539424682347e-63\t190.601861045122\n",
        "BI_GS_DEL1_B3_P2555_15\tENSG00000214401.4\t-21.1941181484767\t2.39112329167548e-69\t2.22902107332183e-65\t-1.15206923117107\n",
        "BI_GS_DEL1_B3_P2555_15\tENSG00000262500.1\t-20.1303422829722\t1.77999168215239e-64\t9.95592067628204e-61\t-0.20726502714453\n",
        "BI_GS_DEL1_B3_P2555_15\tENSG00000262539.1\t-24.8998281674489\t3.13361638161806e-86\t4.86863013620039e-82\t-1.28783022086749\n"
       ]
      }
     ],
     "prompt_number": 119
    },
    {
     "cell_type": "code",
     "collapsed": false,
     "input": [
      "%%bash\n",
      "cut -f 1 SV_gene_sample | sort | head"
     ],
     "language": "python",
     "metadata": {},
     "outputs": [
      {
       "output_type": "stream",
       "stream": "stdout",
       "text": [
        "BI_GS_CNV_17_43576081_43589376\n",
        "BI_GS_CNV_17_43576081_43589376\n",
        "BI_GS_CNV_17_43576081_43589376\n",
        "BI_GS_CNV_17_43576081_43589376\n",
        "BI_GS_CNV_4_69426439_69454553\n",
        "BI_GS_CNV_4_69426439_69454553\n",
        "BI_GS_DEL1_B1_P1099_422\n",
        "BI_GS_DEL1_B3_P2555_15\n",
        "BI_GS_DEL1_B3_P2555_15\n",
        "BI_GS_DEL1_B3_P2555_15\n"
       ]
      }
     ],
     "prompt_number": 120
    },
    {
     "cell_type": "markdown",
     "metadata": {},
     "source": [
      "###uniq\n",
      "uniq will remove the duplicates. Input needs to be sorted first."
     ]
    },
    {
     "cell_type": "code",
     "collapsed": false,
     "input": [
      "%%bash\n",
      "cut -f 1 SV_gene_sample | sort | uniq"
     ],
     "language": "python",
     "metadata": {},
     "outputs": [
      {
       "output_type": "stream",
       "stream": "stdout",
       "text": [
        "BI_GS_CNV_17_43576081_43589376\n",
        "BI_GS_CNV_4_69426439_69454553\n",
        "BI_GS_DEL1_B1_P1099_422\n",
        "BI_GS_DEL1_B3_P2555_15\n",
        "BI_GS_DEL1_B5_P2682_257\n",
        "DEL_pindel_16206\n",
        "DEL_pindel_45688\n",
        "DEL_pindel_45690\n",
        "DEL_pindel_45694\n",
        "DUP_gs_CNV_17_44341412_44366497\n",
        "DUP_gs_CNV_22_24345244_24391524\n",
        "DUP_gs_CNV_7_38388214_38397225\n",
        "SVA_umary_SVA_706\n",
        "YL_CN_ACB_1105\n",
        "YL_CN_MSL_117\n",
        "snps\n"
       ]
      }
     ],
     "prompt_number": 121
    },
    {
     "cell_type": "markdown",
     "metadata": {},
     "source": [
      "###>\n",
      "You can redirect output into a file."
     ]
    },
    {
     "cell_type": "code",
     "collapsed": false,
     "input": [
      "%%bash\n",
      "cut -f 1 SV_gene_sample | head > first_svs"
     ],
     "language": "python",
     "metadata": {},
     "outputs": [],
     "prompt_number": 122
    },
    {
     "cell_type": "code",
     "collapsed": false,
     "input": [
      "%%bash\n",
      "cat first_svs"
     ],
     "language": "python",
     "metadata": {},
     "outputs": [
      {
       "output_type": "stream",
       "stream": "stdout",
       "text": [
        "snps\n",
        "BI_GS_DEL1_B5_P2682_257\n",
        "YL_CN_MSL_117\n",
        "DUP_gs_CNV_22_24345244_24391524\n",
        "YL_CN_MSL_117\n",
        "BI_GS_CNV_17_43576081_43589376\n",
        "DEL_pindel_45690\n",
        "DUP_gs_CNV_17_44341412_44366497\n",
        "DEL_pindel_45694\n",
        "BI_GS_DEL1_B3_P2555_15\n"
       ]
      }
     ],
     "prompt_number": 123
    },
    {
     "cell_type": "markdown",
     "metadata": {},
     "source": [
      "###wget\n",
      "You can use wget to download files from the web."
     ]
    },
    {
     "cell_type": "code",
     "collapsed": false,
     "input": [
      "%%bash\n",
      "wget ftp://ftp.1000genomes.ebi.ac.uk/vol1/ftp/technical/working/20130606_sample_info/20130606_sample_info.xlsx\n",
      "ls"
     ],
     "language": "python",
     "metadata": {},
     "outputs": [
      {
       "output_type": "stream",
       "stream": "stdout",
       "text": [
        "20130606_sample_info.xlsx\n",
        "20130606_sample_info.xlsx.1\n",
        "20130606_sample_info.xlsx.2\n",
        "README.md\n",
        "SV_gene_sample\n",
        "first_svs\n",
        "intro_to_shell.ipynb\n",
        "miRNA.tar.gz\n"
       ]
      },
      {
       "output_type": "stream",
       "stream": "stderr",
       "text": [
        "--2014-09-15 09:37:50--  ftp://ftp.1000genomes.ebi.ac.uk/vol1/ftp/technical/working/20130606_sample_info/20130606_sample_info.xlsx\n",
        "           => \u201820130606_sample_info.xlsx.2\u2019\n",
        "Resolving ftp.1000genomes.ebi.ac.uk... 193.62.193.8\n",
        "Connecting to ftp.1000genomes.ebi.ac.uk|193.62.193.8|:21... connected.\n",
        "Logging in as anonymous ... Logged in!\n",
        "==> SYST ... done.    ==> PWD ... done.\n",
        "==> TYPE I ... done.  ==> CWD (1) /vol1/ftp/technical/working/20130606_sample_info ... done.\n",
        "==> SIZE 20130606_sample_info.xlsx ... 990298\n",
        "==> PASV ... done.    ==> RETR 20130606_sample_info.xlsx ... done.\n",
        "Length: 990298 (967K) (unauthoritative)\n",
        "\n",
        "     0K .......... .......... .......... .......... ..........  5%  154K 6s\n",
        "    50K .......... .......... .......... .......... .......... 10%  289K 4s\n",
        "   100K .......... .......... .......... .......... .......... 15%  260K 4s\n",
        "   150K .......... .......... .......... .......... .......... 20%  439K 3s\n",
        "   200K .......... .......... .......... .......... .......... 25% 1.77M 2s\n",
        "   250K .......... .......... .......... .......... .......... 31%  289K 2s\n",
        "   300K .......... .......... .......... .......... .......... 36%  788K 2s\n",
        "   350K .......... .......... .......... .......... .......... 41%  835K 2s\n",
        "   400K .......... .......... .......... .......... .......... 46%  573K 1s\n",
        "   450K .......... .......... .......... .......... .......... 51%  451K 1s\n",
        "   500K .......... .......... .......... .......... .......... 56% 1.19M 1s\n",
        "   550K .......... .......... .......... .......... .......... 62%  999K 1s\n",
        "   600K .......... .......... .......... .......... .......... 67%  636K 1s\n",
        "   650K .......... .......... .......... .......... .......... 72%  406K 1s\n",
        "   700K .......... .......... .......... .......... .......... 77%  563K 0s\n",
        "   750K .......... .......... .......... .......... .......... 82% 1.74M 0s\n",
        "   800K .......... .......... .......... .......... .......... 87%  918K 0s\n",
        "   850K .......... .......... .......... .......... .......... 93%  317K 0s\n",
        "   900K .......... .......... .......... .......... .......... 98% 2.96M 0s\n",
        "   950K .......... .......                                    100% 3.07M=2.0s\n",
        "\n",
        "2014-09-15 09:37:54 (491 KB/s) - \u201820130606_sample_info.xlsx.2\u2019 saved [990298]\n",
        "\n"
       ]
      }
     ],
     "prompt_number": 124
    },
    {
     "cell_type": "markdown",
     "metadata": {},
     "source": [
      "###tar\n",
      "tar can be used to both compress and decompress files. Here we'll just decompress a file, since that is the most common use in bioinformatics"
     ]
    },
    {
     "cell_type": "code",
     "collapsed": false,
     "input": [
      "%%bash \n",
      "tar -xzvf miRNA.tar.gz"
     ],
     "language": "python",
     "metadata": {},
     "outputs": [
      {
       "output_type": "stream",
       "stream": "stderr",
       "text": [
        "x miRNA_gene\n"
       ]
      }
     ],
     "prompt_number": 125
    },
    {
     "cell_type": "code",
     "collapsed": false,
     "input": [
      "%%bash\n",
      "ls "
     ],
     "language": "python",
     "metadata": {},
     "outputs": [
      {
       "output_type": "stream",
       "stream": "stdout",
       "text": [
        "20130606_sample_info.xlsx\n",
        "20130606_sample_info.xlsx.1\n",
        "20130606_sample_info.xlsx.2\n",
        "README.md\n",
        "SV_gene_sample\n",
        "first_svs\n",
        "intro_to_shell.ipynb\n",
        "miRNA.tar.gz\n",
        "miRNA_gene\n"
       ]
      }
     ],
     "prompt_number": 127
    },
    {
     "cell_type": "markdown",
     "metadata": {},
     "source": [
      "###ssh\n",
      "ssh is used to access remote servers.\n",
      "```\n",
      "ssh username@server.address\n",
      "```"
     ]
    },
    {
     "cell_type": "markdown",
     "metadata": {},
     "source": [
      "###scp\n",
      "scp can be used to move files from your local computer to the remote server.\n",
      "From server to computer:\n",
      "```\n",
      "scp username@server.address:/path/to/file /path/to/local/file\n",
      "```\n",
      "From computer to server:\n",
      "```\n",
      "scp /path/to/local/file username@server.address:/path/to/file\n",
      "```"
     ]
    },
    {
     "cell_type": "code",
     "collapsed": false,
     "input": [],
     "language": "python",
     "metadata": {},
     "outputs": []
    }
   ],
   "metadata": {}
  }
 ]
}